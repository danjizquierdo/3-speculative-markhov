{
 "cells": [
  {
   "cell_type": "code",
   "execution_count": 3,
   "metadata": {},
   "outputs": [],
   "source": [
    "from scraper import Scraper\n",
    "import csv\n",
    "import pandas as pd\n",
    "import json\n",
    "import numpy as np\n",
    "import re\n",
    "import raise_corpus\n",
    "import pickle"
   ]
  },
  {
   "cell_type": "code",
   "execution_count": null,
   "metadata": {},
   "outputs": [],
   "source": [
    "# example scraping and storing\n",
    "# to recreate the given corpus, run the following again and replace\n",
    "# fantasy with sci-fi, and then speculative\n",
    "scraper=Scraper('fantasy')\n",
    "titles,descriptions=scraper.go_scrape()\n",
    "t_df1=pd.DataFrame(titles)\n",
    "d_df1=pd.DataFrame(descriptions)\n",
    "t_df1.to_csv('./csvs/fantasy-titles.csv')\n",
    "d_df1.to_csv('./csvs/fantasy-descriptions.csv')"
   ]
  },
  {
   "cell_type": "code",
   "execution_count": 3,
   "metadata": {},
   "outputs": [],
   "source": [
    "# initialize generator\n",
    "voldemort=raise_corpus.Necromancer()"
   ]
  },
  {
   "cell_type": "code",
   "execution_count": 4,
   "metadata": {},
   "outputs": [],
   "source": [
    "# create a corpus full of scraped titles and \n",
    "# a dictionary of words with their posterior pair \n",
    "t_lexicon,t_vocab=voldemort.raise_corpus('titles')"
   ]
  },
  {
   "cell_type": "code",
   "execution_count": 8,
   "metadata": {},
   "outputs": [],
   "source": [
    "# store that information for retrieval later\n",
    "pickle.dump(lexicon,open('t_corpus.pkl','wb'))\n",
    "pickle.dump(vocab,open('t_dictionary.pkl','wb'))"
   ]
  },
  {
   "cell_type": "code",
   "execution_count": 6,
   "metadata": {
    "scrolled": true
   },
   "outputs": [],
   "source": [
    "# repeat the above for text descriptions\n",
    "d_lexicon,d_vocab=voldemort.raise_corpus('descriptions')"
   ]
  },
  {
   "cell_type": "code",
   "execution_count": null,
   "metadata": {},
   "outputs": [],
   "source": [
    "pickle.dump(d_lexicon,open('d_corpus.pkl','wb'))\n",
    "pickle.dump(d_vocab,open('d_dictionary.pkl','wb'))"
   ]
  },
  {
   "cell_type": "code",
   "execution_count": 10,
   "metadata": {},
   "outputs": [
    {
     "name": "stdout",
     "output_type": "stream",
     "text": [
      "Fahrenheit 451 (Kindle Edition) Divergent (Divergent, #1)\n",
      "Brave New York Times bestselling author of commodities, the controversial bestsellers, a wizard in a former graduate student Victor Frankenstein. Obsessed with it.\n"
     ]
    }
   ],
   "source": [
    "# generate an example tweet\n",
    "print(voldemort.shamble(t_lexicon,t_vocab,6))\n",
    "print(voldemort.shamble(d_lexicon,d_vocab,50))"
   ]
  }
 ],
 "metadata": {
  "kernelspec": {
   "display_name": "Python 3",
   "language": "python",
   "name": "python3"
  },
  "language_info": {
   "codemirror_mode": {
    "name": "ipython",
    "version": 3
   },
   "file_extension": ".py",
   "mimetype": "text/x-python",
   "name": "python",
   "nbconvert_exporter": "python",
   "pygments_lexer": "ipython3",
   "version": "3.7.1"
  }
 },
 "nbformat": 4,
 "nbformat_minor": 2
}
